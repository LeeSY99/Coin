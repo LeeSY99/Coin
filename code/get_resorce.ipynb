{
 "cells": [
  {
   "cell_type": "code",
   "execution_count": 1,
   "id": "initial_id",
   "metadata": {
    "collapsed": true,
    "ExecuteTime": {
     "end_time": "2024-03-28T01:31:07.436512100Z",
     "start_time": "2024-03-28T01:31:07.245264Z"
    }
   },
   "outputs": [
    {
     "ename": "ModuleNotFoundError",
     "evalue": "No module named 'pandas'",
     "output_type": "error",
     "traceback": [
      "\u001B[1;31m---------------------------------------------------------------------------\u001B[0m",
      "\u001B[1;31mModuleNotFoundError\u001B[0m                       Traceback (most recent call last)",
      "Cell \u001B[1;32mIn[1], line 3\u001B[0m\n\u001B[0;32m      1\u001B[0m \u001B[38;5;28;01mimport\u001B[39;00m \u001B[38;5;21;01mrequests\u001B[39;00m\n\u001B[0;32m      2\u001B[0m \u001B[38;5;28;01mimport\u001B[39;00m \u001B[38;5;21;01mjson\u001B[39;00m\n\u001B[1;32m----> 3\u001B[0m \u001B[38;5;28;01mimport\u001B[39;00m \u001B[38;5;21;01mpandas\u001B[39;00m \u001B[38;5;28;01mas\u001B[39;00m \u001B[38;5;21;01mpd\u001B[39;00m\n\u001B[0;32m      4\u001B[0m \u001B[38;5;28;01mfrom\u001B[39;00m \u001B[38;5;21;01mdatetime\u001B[39;00m \u001B[38;5;28;01mimport\u001B[39;00m datetime, timedelta\n\u001B[0;32m      6\u001B[0m \u001B[38;5;66;03m# 시작일 설정 (오늘부터 200일 전)\u001B[39;00m\n",
      "\u001B[1;31mModuleNotFoundError\u001B[0m: No module named 'pandas'"
     ]
    }
   ],
   "source": [
    "import requests\n",
    "import json\n",
    "import pandas as pd\n",
    "from datetime import datetime, timedelta\n",
    "\n",
    "# 시작일 설정 (오늘부터 200일 전)\n",
    "start_date = datetime.now()\n",
    "\n",
    "# 종료일 설정 (18년도 1월 1일)\n",
    "end_date = datetime(2018, 1, 1)\n",
    "\n",
    "# 날짜 포맷\n",
    "date_format = \"%Y-%m-%dT00:00:00\"\n",
    "\n",
    "# 빈 DataFrame 생성\n",
    "combined_df = pd.DataFrame()\n",
    "\n",
    "# 200일 단위로 불러오는 날짜 갱신\n",
    "for day in range(0, (start_date - end_date).days, 200):\n",
    "    date = start_date - timedelta(days=day)\n",
    "    dataformat = date.strftime(date_format)\n",
    "\n",
    "    # URL 구성\n",
    "    url = \"https://api.upbit.com/v1/candles/days?market=KRW-BTC&to={}&count=200\".format(dataformat)\n",
    "\n",
    "    try:\n",
    "        # API 요청 및 응답 받기\n",
    "        headers = {\"accept\": \"application/json\"}\n",
    "        response = requests.get(url, headers=headers)\n",
    "        response.raise_for_status()  # 오류 발생 시 예외 발생\n",
    "\n",
    "        # 응답 데이터를 JSON으로 변환하여 DataFrame으로 변환\n",
    "        data = json.loads(response.text)\n",
    "        df = pd.DataFrame(data)\n",
    "\n",
    "        # DataFrame에 데이터 추가\n",
    "        combined_df = pd.concat([combined_df, df], ignore_index=True)\n",
    "\n",
    "    except Exception as e:\n",
    "        print(f\"오류 발생: {e}\")\n",
    "        continue"
   ]
  },
  {
   "cell_type": "code",
   "execution_count": null,
   "outputs": [],
   "source": [
    "print(combined_df)"
   ],
   "metadata": {
    "collapsed": false
   },
   "id": "4272b9543e244cfe"
  },
  {
   "cell_type": "code",
   "execution_count": null,
   "outputs": [],
   "source": [
    "combined_df.columns"
   ],
   "metadata": {
    "collapsed": false
   },
   "id": "da3e61c39de66a1"
  },
  {
   "cell_type": "code",
   "execution_count": null,
   "outputs": [],
   "source": [
    "combined_df.to_csv(\"combined_data.csv\", index=False)"
   ],
   "metadata": {
    "collapsed": false
   },
   "id": "26934c2938903cf1"
  }
 ],
 "metadata": {
  "kernelspec": {
   "display_name": "Python 3",
   "language": "python",
   "name": "python3"
  },
  "language_info": {
   "codemirror_mode": {
    "name": "ipython",
    "version": 2
   },
   "file_extension": ".py",
   "mimetype": "text/x-python",
   "name": "python",
   "nbconvert_exporter": "python",
   "pygments_lexer": "ipython2",
   "version": "2.7.6"
  }
 },
 "nbformat": 4,
 "nbformat_minor": 5
}
