{
 "cells": [
  {
   "cell_type": "code",
   "execution_count": null,
   "id": "initial_id",
   "metadata": {
    "collapsed": true
   },
   "outputs": [],
   "source": [
    "import requests\n",
    "import json\n",
    "import pandas as pd\n",
    "from datetime import datetime, timedelta\n",
    "\n",
    "# 시작일 설정 (오늘부터 200일 전)\n",
    "start_date = datetime.now()\n",
    "\n",
    "# 종료일 설정 (18년도 1월 1일)\n",
    "end_date = datetime(2018, 1, 1)\n",
    "\n",
    "# 날짜 포맷\n",
    "date_format = \"%Y-%m-%dT00:00:00\"\n",
    "\n",
    "# 빈 DataFrame 생성\n",
    "combined_df = pd.DataFrame()\n",
    "\n",
    "# 오늘부터 18년도 1월 1일까지 날짜 생성\n",
    "for day in range((start_date - end_date).days):\n",
    "    date = start_date - timedelta(days=day)\n",
    "    dataformat = date.strftime(date_format)\n",
    "\n",
    "    # URL 구성\n",
    "    url = \"https://api.upbit.com/v1/candles/days?market=KRW-BTC&to={}&count=200\".format(dataformat)\n",
    "\n",
    "    try:\n",
    "        # API 요청 및 응답 받기\n",
    "        headers = {\"accept\": \"application/json\"}\n",
    "        response = requests.get(url, headers=headers)\n",
    "        response.raise_for_status()  # 오류 발생 시 예외 발생\n",
    "\n",
    "        # 응답 데이터를 JSON으로 변환하여 DataFrame으로 변환\n",
    "        data = json.loads(response.text)\n",
    "        df = pd.DataFrame(data)\n",
    "\n",
    "        # DataFrame에 데이터 추가\n",
    "        combined_df = pd.concat([combined_df, df], ignore_index=True)\n",
    "\n",
    "    except Exception as e:\n",
    "        print(f\"오류 발생: {e}\")\n",
    "        continue\n",
    "\n",
    "\n"
   ]
  },
  {
   "cell_type": "code",
   "execution_count": null,
   "outputs": [],
   "source": [
    "print(combined_df)"
   ],
   "metadata": {
    "collapsed": false
   },
   "id": "4272b9543e244cfe"
  },
  {
   "cell_type": "code",
   "execution_count": null,
   "outputs": [],
   "source": [
    "df.columns"
   ],
   "metadata": {
    "collapsed": false
   },
   "id": "da3e61c39de66a1"
  },
  {
   "cell_type": "code",
   "execution_count": null,
   "outputs": [],
   "source": [
    "combined_df.to_csv(\"combined_data.csv\", index=False)"
   ],
   "metadata": {
    "collapsed": false
   },
   "id": "26934c2938903cf1"
  }
 ],
 "metadata": {
  "kernelspec": {
   "display_name": "Python 3",
   "language": "python",
   "name": "python3"
  },
  "language_info": {
   "codemirror_mode": {
    "name": "ipython",
    "version": 2
   },
   "file_extension": ".py",
   "mimetype": "text/x-python",
   "name": "python",
   "nbconvert_exporter": "python",
   "pygments_lexer": "ipython2",
   "version": "2.7.6"
  }
 },
 "nbformat": 4,
 "nbformat_minor": 5
}
