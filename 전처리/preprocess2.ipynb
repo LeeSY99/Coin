{
 "cells": [
  {
   "cell_type": "code",
   "execution_count": 1,
   "metadata": {},
   "outputs": [],
   "source": [
    "import pandas as pd\n",
    "import re"
   ]
  },
  {
   "cell_type": "code",
   "execution_count": 2,
   "metadata": {},
   "outputs": [],
   "source": [
    "train_data=pd.read_csv('/home/kdt-admin/data/train_data.csv')\n",
    "test_data=pd.read_csv('/home/kdt-admin/data/test_data.csv')"
   ]
  },
  {
   "cell_type": "code",
   "execution_count": 3,
   "metadata": {},
   "outputs": [
    {
     "data": {
      "text/plain": [
       "malicious\n",
       "1    17737\n",
       "0    10369\n",
       "Name: count, dtype: int64"
      ]
     },
     "execution_count": 3,
     "metadata": {},
     "output_type": "execute_result"
    }
   ],
   "source": [
    "train_data['malicious'].value_counts()"
   ]
  },
  {
   "cell_type": "code",
   "execution_count": 4,
   "metadata": {},
   "outputs": [],
   "source": [
    "def clean_str(text):\n",
    "    pattern = '([a-zA-Z0-9_.+-]+@[a-zA-Z0-9-]+\\.[a-zA-Z0-9-.]+)' # E-mail제거\n",
    "    text = re.sub(pattern=pattern, repl='', string=text)\n",
    "    pattern = '(http|ftp|https)://(?:[-\\w.]|(?:%[\\da-fA-F]{2}))+' # URL제거\n",
    "    text = re.sub(pattern=pattern, repl='', string=text)\n",
    "    pattern = '([ㅏ-ㅣ]+)'  # 모음 제거\n",
    "    text = re.sub(pattern=pattern, repl='', string=text)\n",
    "    pattern = '<[^>]*>'         # HTML 태그 제거\n",
    "    text = re.sub(pattern=pattern, repl='', string=text)\n",
    "    pattern = '[^\\w\\s\\n]'         # 특수기호제거\n",
    "    text = re.sub(pattern=pattern, repl='', string=text)\n",
    "    text = re.sub('[-=+,#/\\?:^$.@*\\\"※~&%ㆍ!』\\\\‘|\\(\\)\\[\\]\\<\\>`\\'…》]_','', string=text)\n",
    "    text = re.sub('\\n', '.', string=text)\n",
    "    text = re.sub(r'(.)\\1{2,}', r'\\1\\1', text)    #반복되는 글자\n",
    "    text = re.sub(r'[a-zA-Z]', '', text) #알파벳 제거\n",
    "    text = re.sub(r'\\d+', '', text) #숫자 제거\n",
    "    return text.strip()"
   ]
  },
  {
   "cell_type": "code",
   "execution_count": 5,
   "metadata": {},
   "outputs": [],
   "source": [
    "def remove_consonants(text):\n",
    "    pattern = '([ㄱ-ㅎ]+)'  # 자음 제거를 위한 정규 표현식 패턴\n",
    "    return re.sub(pattern=pattern, repl='', string=text)"
   ]
  },
  {
   "cell_type": "code",
   "execution_count": 6,
   "metadata": {},
   "outputs": [],
   "source": [
    "jamo_to_word = {\n",
    "        'ㄱㄱ':'고고',\n",
    "        'ㄲ':'고고',\n",
    "        'ㄱㄱㅅ':'고고싱',\n",
    "        'ㄱㄱㅆ':'고고싱',\n",
    "        'ㄱㄴ':'가능',\n",
    "        'ㄱㄴㅇ':'가나요',\n",
    "        'ㄱㄷ':'기다려',\n",
    "        'ㄳ':'감사',\n",
    "        'ㄱㅅ':'감사',\n",
    "        'ㄱㅇㅇ':'귀여워',\n",
    "        'ㄱㅊ':'개추',\n",
    "        'ㄱㅎ':'극혐',\n",
    "        'ㄲㄲ':'아깝다',\n",
    "        'ㄲㄲㅃㅃ':'낄땐 끼고 빠질땐 빠져',\n",
    "        'ㄲㅂ':'아깝다',\n",
    "        'ㄲㅈ':'꺼져',\n",
    "        'ㄴㄱ':'누구',\n",
    "        'ㄴㄱㅁ':'느금마',\n",
    "        'ㄴㄴ':'노노',\n",
    "        'ㄴㄷ':'노답',\n",
    "        'ㄴㅁㅂ':'누구 물어보신 분',\n",
    "        'ㄴㅆㄴ': '넌 시발 눈치도 없나',\n",
    "        'ㄴㅇㅁ': '니애미',\n",
    "        'ㄴㅇㅅ':'나이스',\n",
    "        'ㄵ':'재미없다',\n",
    "        'ㄴㅈ':'재미없다',\n",
    "        'ㄷㄷ':'덜덜',\n",
    "        'ㄷㄱ':'대기',\n",
    "        'ㄷㅈㄹ':'뒤질래',\n",
    "        'ㄸㄹㄹ':'또르르',\n",
    "        'ㄸㄹㅇ':'또라이',\n",
    "        'ㄹㄱㄴ':'레게노',\n",
    "        'ㄹㅇ':'리얼',\n",
    "        'ㄹㅈㄷ':'레전드',\n",
    "        'ㅁㄹ':'몰라',\n",
    "        'ㅁㅈ':'맞아',\n",
    "        'ㅁㅈㅎ':'민주화',\n",
    "        'ㅁㅊㄷㅁㅊㅇ':'미쳤다미쳤어',\n",
    "        'ㅁㅊ':'미친',\n",
    "        'ㅁㅊㄴ':'미친놈',\n",
    "        'ㅇㄱㄹㅇ':'이거리얼',\n",
    "        'ㅂㅂ':'잘가',\n",
    "        'ㅂㅇ':'잘가',\n",
    "        'ㅂㄷ':'부들',\n",
    "        'ㅂㄹ':'별로',\n",
    "        'ㅂㅁㄱ':'병신은 먹이 금지',\n",
    "        'ㅂㅂㅂㄱ':'반박불가',\n",
    "        'ㅄ':'병신',\n",
    "        'ㅂㅅ':'병신',\n",
    "        'ㅅㅂ':'시발',\n",
    "        'ㅅㅅ':'좋다',\n",
    "        'ㅂㅈㅂ':'보적보',\n",
    "        'ㅂㅈ':'보지',\n",
    "        'ㅂㅊ':'비추천',\n",
    "        'ㅃㄹ':'빨리',\n",
    "        'ㅅㄱ':'수고',\n",
    "        'ㅅㄲ':'새끼',\n",
    "        'ㅅㄹㅎ':'사랑해',\n",
    "        'ㅅㅍ':'시발',\n",
    "        'ㄹㅁ':'놈아',\n",
    "        'ㅅㅌㅊ':'상타',\n",
    "        'ㅍㅌㅊ':'평타',\n",
    "        'ㅎㅌㅊ':'하타',\n",
    "        'ㅁㅌㅊ':'몇타',\n",
    "        'ㅆ':'씹',\n",
    "        'ㅆㅂ':'시발',\n",
    "        'ㄱ':'개',\n",
    "        'ㅈ':'좆',\n",
    "        'ㅇㄴ':'오노',\n",
    "        'ㅇㅁ':'애미',\n",
    "        'ㅇㅂ':'일베',\n",
    "        'ㅇㅇ':'응',\n",
    "        'ㅇㅇㄴㅇ':'응 아니야',\n",
    "        'ㅇㅈ':'인정',\n",
    "        'ㅇㅈㄹ':'이지랄',\n",
    "        'ㅇㅉㄹㄱ':'어쩌라고',\n",
    "        'ㅇㅉㄺ':'어쩌라고',\n",
    "        'ㅇㅋ':'오케이',\n",
    "        'ㅇㅎ':'아하',\n",
    "        'ㅈㄲ':'좆까',\n",
    "        'ㅉㄲ':'짱깨',\n",
    "        'ㅈㄴ':'존나',\n",
    "        'ㅈㄹ':'지랄',\n",
    "        'ㅈㅅ':'죄송합니다',\n",
    "        'ㅈㅈ':'자지',\n",
    "        'ㅉㅉ':'쯧쯧',\n",
    "        'ㅊㅊ':'축하',\n",
    "        'ㅊㅋ':'축하',\n",
    "        'ㅋㄷㅋㄷ':'키득키득',\n",
    "        # 'ㅋㅋ':'키키',\n",
    "        'ㅌㅌ':'도망가자',\n",
    "        'ㅍㅌ':'파티',\n",
    "        'ㅍㅍ':'팝니다',\n",
    "        'ㅎㄱ':'허걱',\n",
    "        'ㅎㄷㄷ':'후덜덜',\n",
    "        'ㅎㄹ':'헐',\n",
    "        'ㅎㅇ':'안녕',\n",
    "        'ㅎㅇㅎㅇ':'안녕',\n",
    "        'ㅎㅇㅌ':'파이팅',\n",
    "        # 'ㅎㅎ':'하하'\n",
    "    }"
   ]
  },
  {
   "cell_type": "code",
   "execution_count": 7,
   "metadata": {},
   "outputs": [],
   "source": [
    "def convert_to_korean_word1(text):\n",
    "    korean_word = ''\n",
    "    i = 0\n",
    "    for word in text.split():\n",
    "        if word in jamo_to_word:\n",
    "            word = jamo_to_word[word]\n",
    "        korean_word+=word\n",
    "        korean_word+=' '\n",
    "        \n",
    "    return korean_word"
   ]
  },
  {
   "cell_type": "code",
   "execution_count": 8,
   "metadata": {},
   "outputs": [],
   "source": [
    "def convert_to_korean_word2(text):\n",
    "    korean_word = ''\n",
    "    i = 0\n",
    "    while i < len(text):\n",
    "        # 네 글자의 조합이 매핑 딕셔너리에 있는지 먼저 확인\n",
    "        if i + 4 <= len(text) and text[i:i+4] in jamo_to_word:\n",
    "            # 매핑된 단어를 결과에 추가하고 인덱스를 4만큼 증가시킴\n",
    "            korean_word += jamo_to_word[text[i:i+4]]\n",
    "            i += 4\n",
    "        # 네 글자의 조합이 매핑되지 않으면 세 글자의 조합 확인\n",
    "        elif i + 3 <= len(text) and text[i:i+3] in jamo_to_word:\n",
    "            # 매핑된 단어를 결과에 추가하고 인덱스를 3만큼 증가시킴\n",
    "            korean_word += jamo_to_word[text[i:i+3]]\n",
    "            i += 3\n",
    "        # 세 글자의 조합이 매핑되지 않으면 두 글자의 조합 확인\n",
    "        elif i + 2 <= len(text) and text[i:i+2] in jamo_to_word:\n",
    "            # 매핑된 단어를 결과에 추가하고 인덱스를 2만큼 증가시킴\n",
    "            korean_word += jamo_to_word[text[i:i+2]]\n",
    "            i += 2\n",
    "        else:\n",
    "            # 매핑된 단어가 없으면 한 글자만 결과에 추가하고 인덱스를 1 증가시킴\n",
    "            korean_word += text[i]\n",
    "            i += 1\n",
    "\n",
    "    return korean_word"
   ]
  },
  {
   "cell_type": "code",
   "execution_count": 9,
   "metadata": {},
   "outputs": [
    {
     "data": {
      "text/plain": [
       "'미친놈 '"
      ]
     },
     "execution_count": 9,
     "metadata": {},
     "output_type": "execute_result"
    }
   ],
   "source": [
    "convert_to_korean_word1('ㅁㅊㄴ')\n",
    "# convert_to_korean_word2('ㅁㅊ놈')"
   ]
  },
  {
   "cell_type": "code",
   "execution_count": 10,
   "metadata": {},
   "outputs": [],
   "source": [
    "# text = 'ㅁㅊ놈'\n",
    "# # 변환된 한글 단어 출력\n",
    "# korean_word = convert_to_korean_word(text)\n",
    "# print(korean_word)  "
   ]
  },
  {
   "cell_type": "code",
   "execution_count": 11,
   "metadata": {},
   "outputs": [],
   "source": [
    "train_data['clean1']=train_data['comments'].apply(clean_str) \n",
    "train_data['clean1']=train_data['clean1'].apply(convert_to_korean_word1)\n",
    "train_data['clean1']=train_data['clean1'].apply(convert_to_korean_word2)\n",
    "train_data['clean1']=train_data['clean1'].apply(remove_consonants)"
   ]
  },
  {
   "cell_type": "code",
   "execution_count": 12,
   "metadata": {},
   "outputs": [
    {
     "data": {
      "text/plain": [
       "'누드트라다무스 '"
      ]
     },
     "execution_count": 12,
     "metadata": {},
     "output_type": "execute_result"
    }
   ],
   "source": [
    "remove_consonants('누드트라다무스 ㅋ')"
   ]
  },
  {
   "cell_type": "code",
   "execution_count": 13,
   "metadata": {},
   "outputs": [],
   "source": [
    "train_data = train_data[train_data['clean1'] != '']"
   ]
  },
  {
   "cell_type": "code",
   "execution_count": 14,
   "metadata": {},
   "outputs": [
    {
     "data": {
      "text/plain": [
       "comments     오 전라민주당 굿아이디어.\n",
       "malicious                 0\n",
       "clean1       오 전라민주당 굿아이디어 \n",
       "Name: 3118, dtype: object"
      ]
     },
     "execution_count": 14,
     "metadata": {},
     "output_type": "execute_result"
    }
   ],
   "source": [
    "train_data.iloc[3101]\n"
   ]
  },
  {
   "cell_type": "code",
   "execution_count": 15,
   "metadata": {},
   "outputs": [],
   "source": [
    "empty_rows = train_data[train_data['clean1'] == '']\n",
    "empty_rows\n",
    "train_data.reset_index(drop=True, inplace=True)\n"
   ]
  },
  {
   "cell_type": "code",
   "execution_count": 16,
   "metadata": {},
   "outputs": [],
   "source": [
    "train_data.to_csv('/home/kdt-admin/lsy/preprocess2.csv',index=False)"
   ]
  },
  {
   "cell_type": "code",
   "execution_count": 17,
   "metadata": {},
   "outputs": [],
   "source": [
    "from pykospacing import Spacing\n",
    "spacing = Spacing()"
   ]
  },
  {
   "cell_type": "code",
   "execution_count": 18,
   "metadata": {},
   "outputs": [
    {
     "name": "stderr",
     "output_type": "stream",
     "text": [
      "100%|██████████| 28070/28070 [20:20<00:00, 23.00it/s]\n"
     ]
    }
   ],
   "source": [
    "from tqdm import tqdm\n",
    "for i in tqdm(range(train_data.shape[0])):\n",
    "    # PyKoSpacing 패키지를 사용하여 띄어쓰기 적용\n",
    "    train_data.loc[i,'space'] = spacing(train_data.loc[i,'clean1'])\n",
    "    # 결과를 'space' 열에 저장"
   ]
  },
  {
   "cell_type": "code",
   "execution_count": 19,
   "metadata": {},
   "outputs": [],
   "source": [
    "train_data['space']=train_data['space'].apply(convert_to_korean_word2)\n",
    "# train_data['space'] = train_data['space'].apply(lambda x: re.sub('[ㄱ-ㅎ]', '', x))"
   ]
  },
  {
   "cell_type": "code",
   "execution_count": 20,
   "metadata": {},
   "outputs": [],
   "source": [
    "train_data.to_csv('/home/kdt-admin/lsy/preprocess2.csv',index=False)"
   ]
  },
  {
   "cell_type": "code",
   "execution_count": 21,
   "metadata": {},
   "outputs": [],
   "source": [
    "#띄어쓰기/맞춤법 교정\n",
    "from hanspell import spell_checker\n",
    "\n",
    "def check_spelling(sent):\n",
    "    try:\n",
    "        sent = str(sent)\n",
    "        spelled_sent = spell_checker.check(sent)\n",
    "\n",
    "        hanspell_sent = spelled_sent.checked\n",
    "        return hanspell_sent\n",
    "    except Exception as e:\n",
    "        print(e)"
   ]
  },
  {
   "cell_type": "code",
   "execution_count": 22,
   "metadata": {},
   "outputs": [
    {
     "name": "stdout",
     "output_type": "stream",
     "text": [
      "맞춤법 틀리면 왜 안돼? 쓰고 싶은 대로 쓰면 되지 \n"
     ]
    }
   ],
   "source": [
    "sent = \"맞춤법 틀리면 외 않되? 쓰고싶은대로쓰면돼지 \"\n",
    "spelled_sent = spell_checker.check(sent)\n",
    "\n",
    "hanspell_sent = spelled_sent.checked\n",
    "print(hanspell_sent)"
   ]
  },
  {
   "cell_type": "code",
   "execution_count": 23,
   "metadata": {},
   "outputs": [
    {
     "name": "stderr",
     "output_type": "stream",
     "text": [
      " 17%|█▋        | 4853/28070 [14:07<1:06:06,  5.85it/s] "
     ]
    },
    {
     "name": "stdout",
     "output_type": "stream",
     "text": [
      "Expecting value: line 1 column 1 (char 0)\n"
     ]
    },
    {
     "name": "stderr",
     "output_type": "stream",
     "text": [
      "100%|██████████| 28070/28070 [1:26:22<00:00,  5.42it/s]  \n"
     ]
    }
   ],
   "source": [
    "from tqdm import tqdm\n",
    "for i in tqdm(range(train_data.shape[0])):\n",
    "    train_data.loc[i,'hanspell'] = check_spelling(train_data.loc[i,'clean1'])"
   ]
  },
  {
   "cell_type": "code",
   "execution_count": 24,
   "metadata": {},
   "outputs": [
    {
     "data": {
      "text/html": [
       "<div>\n",
       "<style scoped>\n",
       "    .dataframe tbody tr th:only-of-type {\n",
       "        vertical-align: middle;\n",
       "    }\n",
       "\n",
       "    .dataframe tbody tr th {\n",
       "        vertical-align: top;\n",
       "    }\n",
       "\n",
       "    .dataframe thead th {\n",
       "        text-align: right;\n",
       "    }\n",
       "</style>\n",
       "<table border=\"1\" class=\"dataframe\">\n",
       "  <thead>\n",
       "    <tr style=\"text-align: right;\">\n",
       "      <th></th>\n",
       "      <th>comments</th>\n",
       "      <th>malicious</th>\n",
       "      <th>clean1</th>\n",
       "      <th>space</th>\n",
       "      <th>hanspell</th>\n",
       "    </tr>\n",
       "  </thead>\n",
       "  <tbody>\n",
       "    <tr>\n",
       "      <th>0</th>\n",
       "      <td>석유 화학은 GS, S-오일, 현대오일뱅크지</td>\n",
       "      <td>0</td>\n",
       "      <td>석유 화학은 오일 현대오일뱅크지</td>\n",
       "      <td>석유 화학은 오일 현대오일뱅크지</td>\n",
       "      <td>석유 화학은 오일 현대오일뱅크 지</td>\n",
       "    </tr>\n",
       "    <tr>\n",
       "      <th>1</th>\n",
       "      <td>은교입니다.</td>\n",
       "      <td>0</td>\n",
       "      <td>은교입니다</td>\n",
       "      <td>은교입니다</td>\n",
       "      <td>은교입니다</td>\n",
       "    </tr>\n",
       "    <tr>\n",
       "      <th>2</th>\n",
       "      <td>김트루는 디씨네임드야</td>\n",
       "      <td>0</td>\n",
       "      <td>김트루는 디씨네임드야</td>\n",
       "      <td>김트루는 디씨네임 드야</td>\n",
       "      <td>김 트는 디시 네임드야</td>\n",
       "    </tr>\n",
       "    <tr>\n",
       "      <th>3</th>\n",
       "      <td>ㄴㄴ 그냥 해논 닉이도 구로디지탈산다 키 잘생긴편인데  머하노 인물아깝게 인생짧아</td>\n",
       "      <td>0</td>\n",
       "      <td>노노 그냥 해논 닉이도 구로디지탈산다 키 잘생긴편인데 머하노 인물아깝게 인생짧아</td>\n",
       "      <td>노노 그냥 해 논 닉이도 구로 디지탈산 다 키 잘생긴 편인데 머 하노 인물 아깝게 ...</td>\n",
       "      <td>노노 그냥 해놓은 닉이도 구로 디지털 산다 키 잘생긴 편인데 머 하니 인물 아깝게 ...</td>\n",
       "    </tr>\n",
       "    <tr>\n",
       "      <th>4</th>\n",
       "      <td>존경 스롭넹 와우!!!!</td>\n",
       "      <td>0</td>\n",
       "      <td>존경 스롭넹 와우</td>\n",
       "      <td>존경 스롭 넹 와 우</td>\n",
       "      <td>존경 스롭넹 와우</td>\n",
       "    </tr>\n",
       "  </tbody>\n",
       "</table>\n",
       "</div>"
      ],
      "text/plain": [
       "                                        comments  malicious  \\\n",
       "0                       석유 화학은 GS, S-오일, 현대오일뱅크지          0   \n",
       "1                                         은교입니다.          0   \n",
       "2                                    김트루는 디씨네임드야          0   \n",
       "3  ㄴㄴ 그냥 해논 닉이도 구로디지탈산다 키 잘생긴편인데  머하노 인물아깝게 인생짧아          0   \n",
       "4                                  존경 스롭넹 와우!!!!          0   \n",
       "\n",
       "                                          clean1  \\\n",
       "0                             석유 화학은 오일 현대오일뱅크지    \n",
       "1                                         은교입니다    \n",
       "2                                   김트루는 디씨네임드야    \n",
       "3  노노 그냥 해논 닉이도 구로디지탈산다 키 잘생긴편인데 머하노 인물아깝게 인생짧아    \n",
       "4                                     존경 스롭넹 와우    \n",
       "\n",
       "                                               space  \\\n",
       "0                                  석유 화학은 오일 현대오일뱅크지   \n",
       "1                                              은교입니다   \n",
       "2                                       김트루는 디씨네임 드야   \n",
       "3  노노 그냥 해 논 닉이도 구로 디지탈산 다 키 잘생긴 편인데 머 하노 인물 아깝게 ...   \n",
       "4                                        존경 스롭 넹 와 우   \n",
       "\n",
       "                                            hanspell  \n",
       "0                                석유 화학은 오일 현대오일뱅크 지   \n",
       "1                                             은교입니다   \n",
       "2                                      김 트는 디시 네임드야   \n",
       "3  노노 그냥 해놓은 닉이도 구로 디지털 산다 키 잘생긴 편인데 머 하니 인물 아깝게 ...  \n",
       "4                                         존경 스롭넹 와우   "
      ]
     },
     "execution_count": 24,
     "metadata": {},
     "output_type": "execute_result"
    }
   ],
   "source": [
    "train_data.head()"
   ]
  },
  {
   "cell_type": "code",
   "execution_count": 25,
   "metadata": {},
   "outputs": [
    {
     "data": {
      "text/html": [
       "<div>\n",
       "<style scoped>\n",
       "    .dataframe tbody tr th:only-of-type {\n",
       "        vertical-align: middle;\n",
       "    }\n",
       "\n",
       "    .dataframe tbody tr th {\n",
       "        vertical-align: top;\n",
       "    }\n",
       "\n",
       "    .dataframe thead th {\n",
       "        text-align: right;\n",
       "    }\n",
       "</style>\n",
       "<table border=\"1\" class=\"dataframe\">\n",
       "  <thead>\n",
       "    <tr style=\"text-align: right;\">\n",
       "      <th></th>\n",
       "      <th>comments</th>\n",
       "      <th>malicious</th>\n",
       "      <th>clean1</th>\n",
       "      <th>space</th>\n",
       "      <th>hanspell</th>\n",
       "    </tr>\n",
       "  </thead>\n",
       "  <tbody>\n",
       "    <tr>\n",
       "      <th>881</th>\n",
       "      <td>영화 만비키 가족 . 기생충 , 조커요즘 영화 화두가 빈부격차인 이유 세상 젊은이들...</td>\n",
       "      <td>0</td>\n",
       "      <td>영화 만비키 가족 기생충 조커요즘 영화 화두가 빈부격차인 이유 세상 젊은이들이 빈부...</td>\n",
       "      <td>영화 만 비키 가족 기생충 조커 요즘 영화 화두가 빈부 격차인 이유 세상 젊은이들이...</td>\n",
       "      <td></td>\n",
       "    </tr>\n",
       "    <tr>\n",
       "      <th>1526</th>\n",
       "      <td>기사글은 링크 없는게 국룰이냐? 기사글은 링크 없는게 학계의 정설이냐? 기사글은 링...</td>\n",
       "      <td>0</td>\n",
       "      <td>기사글은 링크 없는게 국룰이냐 기사글은 링크 없는게 학계의 정설이냐 기사글은 링크 ...</td>\n",
       "      <td>기사 글은 링크 없는 게 국룰이냐 기 사 글은 링크 없는 게 학계의 정설이냐 기 사...</td>\n",
       "      <td></td>\n",
       "    </tr>\n",
       "    <tr>\n",
       "      <th>2074</th>\n",
       "      <td>그냥 20대 허세 한1남충과 20대 한녀 피싸개들의 콜라보지 뭘 부모탓이야힙합 찐따...</td>\n",
       "      <td>1</td>\n",
       "      <td>그냥 대 허세 한남충과 대 한녀 피싸개들의 콜라보지 뭘 부모탓이야힙합 찐따음악이나 ...</td>\n",
       "      <td>그냥 대 허세 한 남충과 대 한녀 피싸개들의 콜라보지 뭘 부모 탓이야 힙합 찐따음악...</td>\n",
       "      <td></td>\n",
       "    </tr>\n",
       "    <tr>\n",
       "      <th>3040</th>\n",
       "      <td>내가 의료계에  있어서 안다.  예를 들어  설명해줄게 .  중증외상때문에  병원에...</td>\n",
       "      <td>1</td>\n",
       "      <td>내가 의료계에 있어서 안다 예를 들어 설명해줄게 중증외상때문에 병원에 실려온 환자가...</td>\n",
       "      <td>내가 의료계에 있어서 안 다 예를 들어 설명해줄 게 중증 외상 때문에 병원에 실려온...</td>\n",
       "      <td></td>\n",
       "    </tr>\n",
       "    <tr>\n",
       "      <th>4949</th>\n",
       "      <td>이해가 안되는게 사회주의가 이론 상으로는 아름답다는 대가리 총 맞은 좌빨새끼들이 할...</td>\n",
       "      <td>1</td>\n",
       "      <td>이해가 안되는게 사회주의가 이론 상으로는 아름답다는 대가리 총 맞은 좌빨새끼들이 할...</td>\n",
       "      <td>이해가 안 되는 게 사회주의가 이론 상으로는 아름답다는 대가 리 총 맞은 좌빨 새끼...</td>\n",
       "      <td></td>\n",
       "    </tr>\n",
       "  </tbody>\n",
       "</table>\n",
       "</div>"
      ],
      "text/plain": [
       "                                               comments  malicious  \\\n",
       "881   영화 만비키 가족 . 기생충 , 조커요즘 영화 화두가 빈부격차인 이유 세상 젊은이들...          0   \n",
       "1526  기사글은 링크 없는게 국룰이냐? 기사글은 링크 없는게 학계의 정설이냐? 기사글은 링...          0   \n",
       "2074  그냥 20대 허세 한1남충과 20대 한녀 피싸개들의 콜라보지 뭘 부모탓이야힙합 찐따...          1   \n",
       "3040  내가 의료계에  있어서 안다.  예를 들어  설명해줄게 .  중증외상때문에  병원에...          1   \n",
       "4949  이해가 안되는게 사회주의가 이론 상으로는 아름답다는 대가리 총 맞은 좌빨새끼들이 할...          1   \n",
       "\n",
       "                                                 clean1  \\\n",
       "881   영화 만비키 가족 기생충 조커요즘 영화 화두가 빈부격차인 이유 세상 젊은이들이 빈부...   \n",
       "1526  기사글은 링크 없는게 국룰이냐 기사글은 링크 없는게 학계의 정설이냐 기사글은 링크 ...   \n",
       "2074  그냥 대 허세 한남충과 대 한녀 피싸개들의 콜라보지 뭘 부모탓이야힙합 찐따음악이나 ...   \n",
       "3040  내가 의료계에 있어서 안다 예를 들어 설명해줄게 중증외상때문에 병원에 실려온 환자가...   \n",
       "4949  이해가 안되는게 사회주의가 이론 상으로는 아름답다는 대가리 총 맞은 좌빨새끼들이 할...   \n",
       "\n",
       "                                                  space hanspell  \n",
       "881   영화 만 비키 가족 기생충 조커 요즘 영화 화두가 빈부 격차인 이유 세상 젊은이들이...           \n",
       "1526  기사 글은 링크 없는 게 국룰이냐 기 사 글은 링크 없는 게 학계의 정설이냐 기 사...           \n",
       "2074  그냥 대 허세 한 남충과 대 한녀 피싸개들의 콜라보지 뭘 부모 탓이야 힙합 찐따음악...           \n",
       "3040  내가 의료계에 있어서 안 다 예를 들어 설명해줄 게 중증 외상 때문에 병원에 실려온...           \n",
       "4949  이해가 안 되는 게 사회주의가 이론 상으로는 아름답다는 대가 리 총 맞은 좌빨 새끼...           "
      ]
     },
     "execution_count": 25,
     "metadata": {},
     "output_type": "execute_result"
    }
   ],
   "source": [
    "empty_rows = train_data[train_data['hanspell'] == '']\n",
    "empty_rows"
   ]
  },
  {
   "cell_type": "code",
   "execution_count": 26,
   "metadata": {},
   "outputs": [],
   "source": [
    "train_data = train_data[train_data['hanspell'] != '']"
   ]
  },
  {
   "cell_type": "code",
   "execution_count": 35,
   "metadata": {},
   "outputs": [
    {
     "data": {
      "text/html": [
       "<div>\n",
       "<style scoped>\n",
       "    .dataframe tbody tr th:only-of-type {\n",
       "        vertical-align: middle;\n",
       "    }\n",
       "\n",
       "    .dataframe tbody tr th {\n",
       "        vertical-align: top;\n",
       "    }\n",
       "\n",
       "    .dataframe thead th {\n",
       "        text-align: right;\n",
       "    }\n",
       "</style>\n",
       "<table border=\"1\" class=\"dataframe\">\n",
       "  <thead>\n",
       "    <tr style=\"text-align: right;\">\n",
       "      <th></th>\n",
       "      <th>comments</th>\n",
       "      <th>malicious</th>\n",
       "      <th>clean1</th>\n",
       "      <th>space</th>\n",
       "      <th>hanspell</th>\n",
       "    </tr>\n",
       "  </thead>\n",
       "  <tbody>\n",
       "    <tr>\n",
       "      <th>4847</th>\n",
       "      <td>인지과학을 공부하겠다는 말은\"나는 자연과학을 공부하겠다, 인문학을 공부하겠다\" 이런...</td>\n",
       "      <td>0</td>\n",
       "      <td>인지과학을 공부하겠다는 말은나는 자연과학을 공부하겠다 인문학을 공부하겠다 이런 말하...</td>\n",
       "      <td>인지과학을 공부하겠다는 말은 나는 자연과학을 공부하겠다 인문학을 공부하겠다 이런 말...</td>\n",
       "      <td>None</td>\n",
       "    </tr>\n",
       "  </tbody>\n",
       "</table>\n",
       "</div>"
      ],
      "text/plain": [
       "                                               comments  malicious  \\\n",
       "4847  인지과학을 공부하겠다는 말은\"나는 자연과학을 공부하겠다, 인문학을 공부하겠다\" 이런...          0   \n",
       "\n",
       "                                                 clean1  \\\n",
       "4847  인지과학을 공부하겠다는 말은나는 자연과학을 공부하겠다 인문학을 공부하겠다 이런 말하...   \n",
       "\n",
       "                                                  space hanspell  \n",
       "4847  인지과학을 공부하겠다는 말은 나는 자연과학을 공부하겠다 인문학을 공부하겠다 이런 말...     None  "
      ]
     },
     "execution_count": 35,
     "metadata": {},
     "output_type": "execute_result"
    }
   ],
   "source": [
    "empty_rows = train_data[train_data['hanspell'] == 'None']\n",
    "empty_rows"
   ]
  },
  {
   "cell_type": "code",
   "execution_count": 36,
   "metadata": {},
   "outputs": [],
   "source": [
    "train_data = train_data[train_data['hanspell'] != 'None']"
   ]
  },
  {
   "cell_type": "code",
   "execution_count": 37,
   "metadata": {},
   "outputs": [],
   "source": [
    "train_data.reset_index(drop=True, inplace=True)"
   ]
  },
  {
   "cell_type": "code",
   "execution_count": 38,
   "metadata": {},
   "outputs": [],
   "source": [
    "train_data.to_csv('/home/kdt-admin/lsy/preprocess2.csv',index=False)"
   ]
  },
  {
   "cell_type": "code",
   "execution_count": 30,
   "metadata": {},
   "outputs": [],
   "source": [
    "import re\n",
    "\n",
    "def remove_consonants(text):\n",
    "    text=str(text)\n",
    "    try:\n",
    "        text = re.sub('[ㄱ-ㅎ]', '', text)\n",
    "        return text\n",
    "    except TypeError:\n",
    "        # 만약 값이 None 또는 다른 유효하지 않은 형식이라면 그대로 반환\n",
    "        return text\n",
    "\n",
    "# 'hanspell' 열의 각 문자열에 대해 자음을 삭제하여 새로운 열 생성\n",
    "train_data['hanspell'] = train_data['hanspell'].apply(remove_consonants)\n"
   ]
  },
  {
   "cell_type": "code",
   "execution_count": 31,
   "metadata": {},
   "outputs": [
    {
     "data": {
      "text/plain": [
       "'진짜 우리 색시랑 똑같습니다  동지 발견이네요'"
      ]
     },
     "execution_count": 31,
     "metadata": {},
     "output_type": "execute_result"
    }
   ],
   "source": [
    "remove_consonants('진짜 우리 색시랑 똑같습니다 ㅎ 동지 발견이네요')"
   ]
  },
  {
   "cell_type": "code",
   "execution_count": 32,
   "metadata": {},
   "outputs": [],
   "source": [
    "train_data['hanspell']=train_data['hanspell'].apply(convert_to_korean_word2)"
   ]
  },
  {
   "cell_type": "code",
   "execution_count": 33,
   "metadata": {},
   "outputs": [],
   "source": [
    "train_data.to_csv('/home/kdt-admin/lsy/preprocess2.csv',index=False)"
   ]
  },
  {
   "cell_type": "code",
   "execution_count": 42,
   "metadata": {},
   "outputs": [
    {
     "data": {
      "text/plain": [
       "'cuda:0'"
      ]
     },
     "execution_count": 42,
     "metadata": {},
     "output_type": "execute_result"
    }
   ],
   "source": [
    "import torch\n",
    "from transformers import T5ForConditionalGeneration, T5Tokenizer\n",
    "device = \"cuda:0\" if torch.cuda.is_available() else \"cpu\"\n",
    "device"
   ]
  },
  {
   "cell_type": "code",
   "execution_count": 43,
   "metadata": {},
   "outputs": [
    {
     "name": "stderr",
     "output_type": "stream",
     "text": [
      "You are using the default legacy behaviour of the <class 'transformers.models.t5.tokenization_t5.T5Tokenizer'>. This is expected, and simply means that the `legacy` (previous) behavior will be used so nothing changes for you. If you want to use the new behaviour, set `legacy=False`. This should only be set if you understand what it means, and thoroughly read the reason why this was added as explained in https://github.com/huggingface/transformers/pull/24565\n"
     ]
    }
   ],
   "source": [
    "model = T5ForConditionalGeneration.from_pretrained(\"j5ng/et5-typos-corrector\").to(device)\n",
    "tokenizer = T5Tokenizer.from_pretrained(\"j5ng/et5-typos-corrector\")"
   ]
  },
  {
   "cell_type": "code",
   "execution_count": 45,
   "metadata": {},
   "outputs": [],
   "source": [
    "# 예시 입력 문장\n",
    "def correct_grammar(input_text):\n",
    "    input_text = str(input_text)\n",
    "\n",
    "    # 입력 문장 인코딩\n",
    "    input_encoding = tokenizer(input_text, return_tensors=\"pt\")\n",
    "\n",
    "    input_ids = input_encoding.input_ids.to(device)\n",
    "    attention_mask = input_encoding.attention_mask.to(device)\n",
    "\n",
    "    # T5 모델 출력 생성\n",
    "    output_encoding = model.generate(\n",
    "        input_ids=input_ids,\n",
    "        attention_mask=attention_mask,\n",
    "        max_length=128,\n",
    "        num_beams=5,\n",
    "        early_stopping=True,\n",
    "    )\n",
    "\n",
    "    # 출력 문장 디코딩\n",
    "    output_text = tokenizer.decode(output_encoding[0], skip_special_tokens=True)\n",
    "\n",
    "    # 결과 출력\n",
    "    return output_text"
   ]
  },
  {
   "cell_type": "code",
   "execution_count": 47,
   "metadata": {},
   "outputs": [
    {
     "name": "stderr",
     "output_type": "stream",
     "text": [
      "  1%|          | 287/28108 [02:12<4:35:11,  1.68it/s]"
     ]
    }
   ],
   "source": [
    "from tqdm import tqdm\n",
    "\n",
    "# train_data의 처리 과정을 tqdm으로 감싸어 진행률을 표시\n",
    "with tqdm(total=len(train_data)) as pbar:\n",
    "    for idx, row in train_data.iterrows():\n",
    "        # 각 행에 대한 처리 코드 작성\n",
    "        processed_text = correct_grammar(row['clean1'])  # 예시에서는 correct_grammar 함수를 사용하였습니다.\n",
    "        \n",
    "        # 결과를 새로운 열에 저장\n",
    "        train_data.at[idx, 't5'] = processed_text\n",
    "        \n",
    "        # tqdm 진행률 갱신\n",
    "        pbar.update(1)\n",
    "\n",
    "# 처리가 완료된 train_data 출력\n",
    "print(train_data)\n"
   ]
  },
  {
   "cell_type": "code",
   "execution_count": null,
   "metadata": {},
   "outputs": [],
   "source": [
    "train_data.to_csv('/home/kdt-admin/lsy/preprocess1.csv',index=False)"
   ]
  }
 ],
 "metadata": {
  "kernelspec": {
   "display_name": "leesy",
   "language": "python",
   "name": "leesy"
  },
  "language_info": {
   "codemirror_mode": {
    "name": "ipython",
    "version": 3
   },
   "file_extension": ".py",
   "mimetype": "text/x-python",
   "name": "python",
   "nbconvert_exporter": "python",
   "pygments_lexer": "ipython3",
   "version": "3.10.14"
  }
 },
 "nbformat": 4,
 "nbformat_minor": 2
}
